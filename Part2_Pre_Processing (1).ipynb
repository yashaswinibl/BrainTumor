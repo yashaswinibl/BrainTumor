{
  "cells": [
    {
      "cell_type": "code",
      "execution_count": null,
      "metadata": {
        "id": "uthDza_1Gc-W"
      },
      "outputs": [],
      "source": [
        "import numpy as np\n",
        "import cv2 as cv\n",
        "import os\n",
        "import matplotlib.pyplot as plt"
      ]
    },
    {
      "cell_type": "code",
      "execution_count": null,
      "metadata": {
        "id": "s95PGPLyGc-a"
      },
      "outputs": [],
      "source": [
        "in_dir = '1.raw_mri'\n",
        "binary_dir = '2.train_binary'\n",
        "out_dir = '3.train_tumor_detected'"
      ]
    },
    {
      "cell_type": "code",
      "execution_count": null,
      "metadata": {
        "id": "vtCK59lvGc-a"
      },
      "outputs": [],
      "source": [
        "wdir = os.listdir(in_dir)\n",
        "#print(wdir)\n",
        "total = len(wdir)\n",
        "#print(total)"
      ]
    },
    {
      "cell_type": "code",
      "execution_count": null,
      "metadata": {
        "id": "cqENos-LGc-b"
      },
      "outputs": [],
      "source": [
        "Gx= np.array([[-1, 0, 1], [-2, 0, 2], [-1, 0, 1]])\n",
        "Gy = np.array([[1, 2, 1], [0, 0, 0], [-1, -2, -1]])"
      ]
    },
    {
      "cell_type": "code",
      "execution_count": null,
      "metadata": {
        "id": "-ik8h7NxGc-b"
      },
      "outputs": [],
      "source": [
        "def detect_tumor(img_path, temp_path, output_path):\n",
        "    img = cv.imread(img_path,1)\n",
        "    img = cv.cvtColor(img, cv.COLOR_BGR2RGB)\n",
        "    \n",
        "    orig_img = img\n",
        "    gray_img = cv.cvtColor( orig_img, cv.COLOR_BGR2GRAY ) \n",
        "    median_filtered = cv.medianBlur(gray_img, 5)\n",
        "\n",
        "    img_sobelx = cv.Sobel(median_filtered,cv.CV_8U,1,0,ksize=3)\n",
        "    img_sobely = cv.Sobel(median_filtered,cv.CV_8U,0,1,ksize=3)\n",
        "\n",
        "    img_sobel = img_sobelx + img_sobely + gray_img\n",
        "\n",
        "    threshold = 137\n",
        "    maxValue = 255\n",
        "\n",
        "    th, thresh = cv.threshold(img_sobel, threshold, maxValue, cv.THRESH_BINARY)\n",
        "\n",
        "    kernel = np.ones((3,3),np.uint8)\n",
        "    opening = cv.morphologyEx(thresh,cv.MORPH_OPEN,kernel, iterations = 1)\n",
        "\n",
        "    sure_bg = cv.dilate(opening,kernel,iterations=3)\n",
        "    dist_transform = cv.distanceTransform(opening,cv.DIST_L2,5)\n",
        "    ret, sure_fg = cv.threshold(dist_transform,0.7*dist_transform.max(),255,0)\n",
        "\n",
        "    sure_fg = np.uint8(sure_fg)\n",
        "    unknown = cv.subtract(sure_bg,sure_fg)\n",
        "\n",
        "    _, contours, _ = cv.findContours(sure_fg.copy(),cv.RETR_TREE,cv.CHAIN_APPROX_SIMPLE)\n",
        "\n",
        "    marker = np.zeros((gray_img.shape[0], gray_img.shape[1]),dtype = np.int32)\n",
        "\n",
        "    marker = np.int32(sure_fg) + np.int32(sure_bg)\n",
        "\n",
        "    for id in range(len(contours)):\n",
        "        cv.drawContours(marker,contours,id,id+2, -1)\n",
        "\n",
        "    marker = marker + 1\n",
        "\n",
        "    marker[unknown==255] = 0\n",
        "\n",
        "    copy_img = orig_img.copy()\n",
        "\n",
        "    tumor_img = cv.watershed(copy_img, marker)\n",
        "    #plt.imshow(tumor_img, cmap='gray')\n",
        "    \n",
        "    copy_img[marker==-1]=(0,0,255)\n",
        "    \n",
        "    plt.imsave(temp_path,tumor_img,cmap='gray')\n",
        "    \n",
        "    t_img = cv.imread(temp_path)\n",
        "\n",
        "    t_img = cv.cvtColor(t_img, cv.COLOR_BGR2RGB)\n",
        "\n",
        "    tumor_img_gray = cv.cvtColor( t_img, cv.COLOR_BGR2GRAY )\n",
        "    #plt.imshow(tumor_img_gray, cmap='gray')\n",
        "    \n",
        "    ret,tumor_binary_image = cv.threshold(tumor_img_gray,137,1,cv.THRESH_BINARY)\n",
        "    \n",
        "    plt.imsave(temp_path,tumor_binary_image,cmap='gray')\n",
        "    \n",
        "    orig_img = cv.cvtColor(orig_img, cv.COLOR_RGB2GRAY)\n",
        "    multi_image = orig_img * tumor_binary_image\n",
        "    #plt.imshow(multi_image, cmap='gray')\n",
        "    \n",
        "    plt.imsave(output_path,multi_image,cmap='gray')\n"
      ]
    },
    {
      "cell_type": "code",
      "execution_count": null,
      "metadata": {
        "id": "NLtbzMwJGc-c"
      },
      "outputs": [],
      "source": [
        "for image_name in os.listdir(in_dir):\n",
        "    detect_tumor(os.path.join(in_dir,image_name), os.path.join(binary_dir,image_name), os.path.join(out_dir,image_name))"
      ]
    },
    {
      "cell_type": "markdown",
      "metadata": {
        "id": "iE0Tln9sGc-c"
      },
      "source": [
        "All images are converted to binary and stored in respective folders."
      ]
    }
  ],
  "metadata": {
    "kernelspec": {
      "display_name": "Python 3",
      "language": "python",
      "name": "python3"
    },
    "language_info": {
      "codemirror_mode": {
        "name": "ipython",
        "version": 3
      },
      "file_extension": ".py",
      "mimetype": "text/x-python",
      "name": "python",
      "nbconvert_exporter": "python",
      "pygments_lexer": "ipython3",
      "version": "3.6.5"
    },
    "colab": {
      "name": "Part2_Pre-Processing.ipynb",
      "provenance": []
    }
  },
  "nbformat": 4,
  "nbformat_minor": 0
}